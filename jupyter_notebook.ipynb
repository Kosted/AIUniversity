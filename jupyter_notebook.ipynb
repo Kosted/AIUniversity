{
 "cells": [
  {
   "cell_type": "code",
   "execution_count": 1,
   "metadata": {},
   "outputs": [],
   "source": [
    "import test_history\n",
    "test_history.main()"
   ]
  },
  {
   "cell_type": "code",
   "execution_count": 33,
   "metadata": {
    "pycharm": {
     "name": "#%%\n"
    }
   },
   "outputs": [],
   "source": [
    "from history import ExtendHistory\n",
    "history_obj = ExtendHistory()"
   ]
  },
  {
   "cell_type": "code",
   "execution_count": 7,
   "outputs": [
    {
     "name": "stdout",
     "output_type": "stream",
     "text": [
      "501    1580678188\n",
      "dtype: int64\n"
     ]
    }
   ],
   "source": [
    "find_result = history_obj.history_arr[history_obj.history_arr==1580678188]\n",
    "print(find_result)"
   ],
   "metadata": {
    "collapsed": false,
    "pycharm": {
     "name": "#%%\n"
    }
   }
  },
  {
   "cell_type": "code",
   "execution_count": 30,
   "outputs": [
    {
     "name": "stdout",
     "output_type": "stream",
     "text": [
      "loops: 10000, history len: 35250000, size: 0.525, dupes: 2\n",
      "history len: 35250000, size: 0.525, dupes: 2\n"
     ]
    }
   ],
   "source": [
    "loops = 10000\n",
    "print(f'loops: {loops}, history len: {history_obj.history_len}, size: {history.translate_to_gb()}, dupes: {history.dupe_count}')\n",
    "for i in range(loops):\n",
    "    for_insert = history_obj.random_sequence_and_score()\n",
    "    history_obj.set_history(*for_insert)\n",
    "    if i % 1000 == 0 and i != 0:\n",
    "        print(f'loops finished: {i}, history len: {history_obj.history_len}, size: {history.translate_to_gb()}, dupes: {history.dupe_count}')\n",
    "print(f'history len: {history_obj.history_len}, size: {history_obj.translate_to_gb()}, dupes: {history.dupe_count}')"
   ],
   "metadata": {
    "collapsed": false,
    "pycharm": {
     "name": "#%%\n"
    }
   }
  },
  {
   "cell_type": "code",
   "execution_count": 34,
   "outputs": [
    {
     "ename": "NameError",
     "evalue": "name 'history_obj' is not defined",
     "output_type": "error",
     "traceback": [
      "\u001B[0;31m---------------------------------------------------------------------------\u001B[0m",
      "\u001B[0;31mNameError\u001B[0m                                 Traceback (most recent call last)",
      "\u001B[0;32m<ipython-input-34-e90bb521724c>\u001B[0m in \u001B[0;36m<module>\u001B[0;34m\u001B[0m\n\u001B[0;32m----> 1\u001B[0;31m \u001B[0mhistory_obj\u001B[0m\u001B[0;34m.\u001B[0m\u001B[0mtranslate_to_gb\u001B[0m\u001B[0;34m(\u001B[0m\u001B[0;34m)\u001B[0m\u001B[0;34m\u001B[0m\u001B[0;34m\u001B[0m\u001B[0m\n\u001B[0m",
      "\u001B[0;31mNameError\u001B[0m: name 'history_obj' is not defined"
     ]
    }
   ],
   "source": [
    "history_obj.translate_to_gb()"
   ],
   "metadata": {
    "collapsed": false,
    "pycharm": {
     "name": "#%%\n"
    }
   }
  },
  {
   "cell_type": "code",
   "execution_count": 28,
   "outputs": [],
   "source": [
    "i = 35250000 // 2\n",
    "dupe_arr = history_obj.history_arr[i: i+500]\n",
    "history_obj.set_history(dupe_arr, 0.234234234234)"
   ],
   "metadata": {
    "collapsed": false,
    "pycharm": {
     "name": "#%%\n"
    }
   }
  },
  {
   "cell_type": "code",
   "execution_count": 32,
   "outputs": [
    {
     "data": {
      "text/plain": "False    35250000\ndtype: int64"
     },
     "execution_count": 32,
     "metadata": {},
     "output_type": "execute_result"
    }
   ],
   "source": [
    "history_obj.history_arr.duplicated().value_counts()"
   ],
   "metadata": {
    "collapsed": false,
    "pycharm": {
     "name": "#%%\n"
    }
   }
  },
  {
   "cell_type": "code",
   "execution_count": 26,
   "outputs": [],
   "source": [
    "filename = 'first_save'\n",
    "history_obj.save_history(filename)\n",
    "\n"
   ],
   "metadata": {
    "collapsed": false,
    "pycharm": {
     "name": "#%%\n"
    }
   }
  }
 ],
 "metadata": {
  "kernelspec": {
   "name": "conda-env-terra-dev-py",
   "language": "python",
   "display_name": "Python [conda env:terra-dev] *"
  },
  "language_info": {
   "codemirror_mode": {
    "name": "ipython",
    "version": 3
   },
   "file_extension": ".py",
   "mimetype": "text/x-python",
   "name": "python",
   "nbconvert_exporter": "python",
   "pygments_lexer": "ipython3",
   "version": "3.7.7"
  }
 },
 "nbformat": 4,
 "nbformat_minor": 1
}